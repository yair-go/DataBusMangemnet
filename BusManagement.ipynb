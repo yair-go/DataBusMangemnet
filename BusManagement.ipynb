{
  "nbformat": 4,
  "nbformat_minor": 0,
  "metadata": {
    "colab": {
      "name": "BusManagement.ipynb",
      "provenance": [],
      "toc_visible": true,
      "mount_file_id": "1PWJUzdsFlSaX3wNsDz4CSI75gTjwzGMb",
      "authorship_tag": "ABX9TyNpH7gcPL34O15NmSwWc+er",
      "include_colab_link": true
    },
    "kernelspec": {
      "name": "python3",
      "display_name": "Python 3"
    }
  },
  "cells": [
    {
      "cell_type": "markdown",
      "metadata": {
        "id": "view-in-github",
        "colab_type": "text"
      },
      "source": [
        "<a href=\"https://colab.research.google.com/github/yair-go/DataBusMangemnet/blob/main/BusManagement.ipynb\" target=\"_parent\"><img src=\"https://colab.research.google.com/assets/colab-badge.svg\" alt=\"Open In Colab\"/></a>"
      ]
    },
    {
      "cell_type": "code",
      "metadata": {
        "colab": {
          "base_uri": "https://localhost:8080/"
        },
        "id": "biK8iwxRGjGh",
        "outputId": "4da07213-5737-4da5-b067-dc31043de5d8"
      },
      "source": [
        "from google.colab import drive\r\n",
        "drive.mount('/content/drive')"
      ],
      "execution_count": 1,
      "outputs": [
        {
          "output_type": "stream",
          "text": [
            "Drive already mounted at /content/drive; to attempt to forcibly remount, call drive.mount(\"/content/drive\", force_remount=True).\n"
          ],
          "name": "stdout"
        }
      ]
    },
    {
      "cell_type": "code",
      "metadata": {
        "id": "qBkDOor0Gt1K"
      },
      "source": [
        "import pandas as pd\r\n",
        "import datetime"
      ],
      "execution_count": 2,
      "outputs": []
    },
    {
      "cell_type": "code",
      "metadata": {
        "id": "adOrPCMH5Nwe"
      },
      "source": [
        "source_directory = '/content/drive/MyDrive/BusManagement/Buses_data/'"
      ],
      "execution_count": 3,
      "outputs": []
    },
    {
      "cell_type": "markdown",
      "metadata": {
        "id": "_hoB9tu4yqMB"
      },
      "source": [
        "# Create XML"
      ]
    },
    {
      "cell_type": "code",
      "metadata": {
        "id": "YrWLa7dDpsq0"
      },
      "source": [
        "def get_xml_data(df, element_name):\r\n",
        "    xml_data = []\r\n",
        "    for field in df.index:\r\n",
        "        xml_data.append('<{0}>'.format(element_name))  # Opening element tag\r\n",
        "        for column in df.columns:\r\n",
        "            xml_data.append('<{0}>{1}</{0}>'.format(column, df[column][field]))\r\n",
        "        xml_data.append('</{0}>'.format(element_name))  # Closing element tag\r\n",
        "    return xml_data\r\n",
        "\r\n",
        "\r\n",
        "def save_xml_file(xml_data, root_element):\r\n",
        "    filename = root_element + '.xml'\r\n",
        "    xml_data.insert(0, '<{0}>'.format(root_element))\r\n",
        "    xml_data.append('</{0}>'.format(root_element))\r\n",
        "    with open(filename, 'w') as f:  # Writing in XML file\r\n",
        "        for line in xml_data:\r\n",
        "            f.write(line)"
      ],
      "execution_count": 3,
      "outputs": []
    },
    {
      "cell_type": "markdown",
      "metadata": {
        "id": "iz7QdV8WOF3-"
      },
      "source": [
        "# Adjacent Stations"
      ]
    },
    {
      "cell_type": "code",
      "metadata": {
        "id": "y6SkLe5DvuXP"
      },
      "source": [
        "df = pd.read_csv(source_directory + 'stop_times.csv', header=0)"
      ],
      "execution_count": 8,
      "outputs": []
    },
    {
      "cell_type": "code",
      "metadata": {
        "colab": {
          "base_uri": "https://localhost:8080/",
          "height": 204
        },
        "id": "4oPjieGpH4xF",
        "outputId": "194c8b38-a6b1-4afd-89bd-ebd19eb5b72a"
      },
      "source": [
        "df.head()"
      ],
      "execution_count": 5,
      "outputs": [
        {
          "output_type": "execute_result",
          "data": {
            "text/html": [
              "<div>\n",
              "<style scoped>\n",
              "    .dataframe tbody tr th:only-of-type {\n",
              "        vertical-align: middle;\n",
              "    }\n",
              "\n",
              "    .dataframe tbody tr th {\n",
              "        vertical-align: top;\n",
              "    }\n",
              "\n",
              "    .dataframe thead th {\n",
              "        text-align: right;\n",
              "    }\n",
              "</style>\n",
              "<table border=\"1\" class=\"dataframe\">\n",
              "  <thead>\n",
              "    <tr style=\"text-align: right;\">\n",
              "      <th></th>\n",
              "      <th>trip_id</th>\n",
              "      <th>arrival_time</th>\n",
              "      <th>departure_time</th>\n",
              "      <th>stop_id</th>\n",
              "      <th>stop_sequence</th>\n",
              "      <th>pickup_type</th>\n",
              "      <th>drop_off_type</th>\n",
              "      <th>shape_dist_traveled</th>\n",
              "    </tr>\n",
              "  </thead>\n",
              "  <tbody>\n",
              "    <tr>\n",
              "      <th>0</th>\n",
              "      <td>10033625_091120</td>\n",
              "      <td>07:50:00</td>\n",
              "      <td>07:50:00</td>\n",
              "      <td>14050</td>\n",
              "      <td>1</td>\n",
              "      <td>0</td>\n",
              "      <td>1</td>\n",
              "      <td>0</td>\n",
              "    </tr>\n",
              "    <tr>\n",
              "      <th>1</th>\n",
              "      <td>10033625_091120</td>\n",
              "      <td>07:51:55</td>\n",
              "      <td>07:51:55</td>\n",
              "      <td>29369</td>\n",
              "      <td>2</td>\n",
              "      <td>0</td>\n",
              "      <td>1</td>\n",
              "      <td>457</td>\n",
              "    </tr>\n",
              "    <tr>\n",
              "      <th>2</th>\n",
              "      <td>10033625_091120</td>\n",
              "      <td>07:55:00</td>\n",
              "      <td>07:55:00</td>\n",
              "      <td>14073</td>\n",
              "      <td>3</td>\n",
              "      <td>0</td>\n",
              "      <td>1</td>\n",
              "      <td>1163</td>\n",
              "    </tr>\n",
              "    <tr>\n",
              "      <th>3</th>\n",
              "      <td>10033625_091120</td>\n",
              "      <td>07:55:42</td>\n",
              "      <td>07:55:42</td>\n",
              "      <td>14074</td>\n",
              "      <td>4</td>\n",
              "      <td>0</td>\n",
              "      <td>1</td>\n",
              "      <td>1337</td>\n",
              "    </tr>\n",
              "    <tr>\n",
              "      <th>4</th>\n",
              "      <td>10033625_091120</td>\n",
              "      <td>07:57:05</td>\n",
              "      <td>07:57:05</td>\n",
              "      <td>14072</td>\n",
              "      <td>5</td>\n",
              "      <td>0</td>\n",
              "      <td>1</td>\n",
              "      <td>1682</td>\n",
              "    </tr>\n",
              "  </tbody>\n",
              "</table>\n",
              "</div>"
            ],
            "text/plain": [
              "           trip_id arrival_time  ... drop_off_type  shape_dist_traveled\n",
              "0  10033625_091120     07:50:00  ...             1                    0\n",
              "1  10033625_091120     07:51:55  ...             1                  457\n",
              "2  10033625_091120     07:55:00  ...             1                 1163\n",
              "3  10033625_091120     07:55:42  ...             1                 1337\n",
              "4  10033625_091120     07:57:05  ...             1                 1682\n",
              "\n",
              "[5 rows x 8 columns]"
            ]
          },
          "metadata": {
            "tags": []
          },
          "execution_count": 5
        }
      ]
    },
    {
      "cell_type": "code",
      "metadata": {
        "id": "dFvfk_CCo65k"
      },
      "source": [
        "adj = df[[\"trip_id\", \"arrival_time\", \"stop_id\", \"stop_sequence\", \"shape_dist_traveled\"]]"
      ],
      "execution_count": null,
      "outputs": []
    },
    {
      "cell_type": "code",
      "metadata": {
        "colab": {
          "base_uri": "https://localhost:8080/",
          "height": 204
        },
        "id": "Xim5aUcPFM9w",
        "outputId": "ad5bd5b1-9725-4957-fbd7-0497d4b6f2ca"
      },
      "source": [
        "adj.head()"
      ],
      "execution_count": 13,
      "outputs": [
        {
          "output_type": "execute_result",
          "data": {
            "text/html": [
              "<div>\n",
              "<style scoped>\n",
              "    .dataframe tbody tr th:only-of-type {\n",
              "        vertical-align: middle;\n",
              "    }\n",
              "\n",
              "    .dataframe tbody tr th {\n",
              "        vertical-align: top;\n",
              "    }\n",
              "\n",
              "    .dataframe thead th {\n",
              "        text-align: right;\n",
              "    }\n",
              "</style>\n",
              "<table border=\"1\" class=\"dataframe\">\n",
              "  <thead>\n",
              "    <tr style=\"text-align: right;\">\n",
              "      <th></th>\n",
              "      <th>trip_id</th>\n",
              "      <th>arrival_time</th>\n",
              "      <th>stop_id</th>\n",
              "      <th>stop_sequence</th>\n",
              "      <th>shape_dist_traveled</th>\n",
              "    </tr>\n",
              "  </thead>\n",
              "  <tbody>\n",
              "    <tr>\n",
              "      <th>0</th>\n",
              "      <td>10033625_091120</td>\n",
              "      <td>07:50:00</td>\n",
              "      <td>14050</td>\n",
              "      <td>1</td>\n",
              "      <td>0</td>\n",
              "    </tr>\n",
              "    <tr>\n",
              "      <th>1</th>\n",
              "      <td>10033625_091120</td>\n",
              "      <td>07:51:55</td>\n",
              "      <td>29369</td>\n",
              "      <td>2</td>\n",
              "      <td>457</td>\n",
              "    </tr>\n",
              "    <tr>\n",
              "      <th>2</th>\n",
              "      <td>10033625_091120</td>\n",
              "      <td>07:55:00</td>\n",
              "      <td>14073</td>\n",
              "      <td>3</td>\n",
              "      <td>1163</td>\n",
              "    </tr>\n",
              "    <tr>\n",
              "      <th>3</th>\n",
              "      <td>10033625_091120</td>\n",
              "      <td>07:55:42</td>\n",
              "      <td>14074</td>\n",
              "      <td>4</td>\n",
              "      <td>1337</td>\n",
              "    </tr>\n",
              "    <tr>\n",
              "      <th>4</th>\n",
              "      <td>10033625_091120</td>\n",
              "      <td>07:57:05</td>\n",
              "      <td>14072</td>\n",
              "      <td>5</td>\n",
              "      <td>1682</td>\n",
              "    </tr>\n",
              "  </tbody>\n",
              "</table>\n",
              "</div>"
            ],
            "text/plain": [
              "           trip_id arrival_time  stop_id  stop_sequence  shape_dist_traveled\n",
              "0  10033625_091120     07:50:00    14050              1                    0\n",
              "1  10033625_091120     07:51:55    29369              2                  457\n",
              "2  10033625_091120     07:55:00    14073              3                 1163\n",
              "3  10033625_091120     07:55:42    14074              4                 1337\n",
              "4  10033625_091120     07:57:05    14072              5                 1682"
            ]
          },
          "metadata": {
            "tags": []
          },
          "execution_count": 13
        }
      ]
    },
    {
      "cell_type": "code",
      "metadata": {
        "id": "FDY27Q6vNdYr"
      },
      "source": [
        "grouped = adj.groupby(['trip_id'])"
      ],
      "execution_count": 15,
      "outputs": []
    },
    {
      "cell_type": "code",
      "metadata": {
        "id": "DPPJxPEeM65Q"
      },
      "source": [
        "def get_AverageTime(frame: pd.DataFrame):\r\n",
        "    avg_time = map(lambda t: t - pd.Timedelta(frame[\"arrival_time\"][frame.index[0]]), pd.to_timedelta(frame[\"arrival_time\"]))\r\n",
        "    return list(map(lambda t: t.seconds, avg_time))[1:]"
      ],
      "execution_count": null,
      "outputs": []
    },
    {
      "cell_type": "code",
      "metadata": {
        "id": "fpuJcAmxpfAf"
      },
      "source": [
        "def get_distance(frame):\r\n",
        "    a = frame[\"shape_dist_traveled\"]\r\n",
        "    dist = [t - s for s, t in zip(a, a[1:])]\r\n",
        "    return dist"
      ],
      "execution_count": null,
      "outputs": []
    },
    {
      "cell_type": "code",
      "metadata": {
        "id": "JrzxAp-upS5l"
      },
      "source": [
        "def create_AdjacentStationsList(grouped):\r\n",
        "    num_of_groups = len(grouped)\r\n",
        "    adjacent_stations = pd.DataFrame()\r\n",
        "\r\n",
        "    i = 1\r\n",
        "    for trip_id, frame in grouped:\r\n",
        "        station1 = frame[\"stop_id\"][:-1]\r\n",
        "        station2 = frame[\"stop_id\"].to_list()[1:]\r\n",
        "        d = {\"AverageTime\": get_AverageTime(frame),\r\n",
        "             \"Distance\": get_distance(frame),\r\n",
        "             \"Station1\": station1,\r\n",
        "             \"Station2\": station2,\r\n",
        "             \"key\": [str(s) + str(t) for s, t in zip(station1, station2)]\r\n",
        "             }\r\n",
        "        df2 = pd.DataFrame.from_dict(d)\r\n",
        "        adjacent_stations = pd.concat([adjacent_stations, df2]).drop_duplicates('key').reset_index(drop=True)\r\n",
        "        if 0 == i % 1000:\r\n",
        "            print('{0} / {1}'.format(i, num_of_groups))\r\n",
        "        i += 1\r\n",
        "    xml_data = get_xml_data(adjacent_stations, \"AdjacentStations\")\r\n",
        "    save_xml_file(xml_data, \"AdjacentStationsList\")"
      ],
      "execution_count": null,
      "outputs": []
    },
    {
      "cell_type": "code",
      "metadata": {
        "id": "YYAE1keZvZBi"
      },
      "source": [
        "create_AdjacentStationsList(grouped)"
      ],
      "execution_count": null,
      "outputs": []
    },
    {
      "cell_type": "markdown",
      "metadata": {
        "id": "0SPZcNSCIOAE"
      },
      "source": [
        "# Stops"
      ]
    },
    {
      "cell_type": "code",
      "metadata": {
        "id": "amcUsde7IS1W"
      },
      "source": [
        "stops = pd.read_csv(source_directory + 'stops.csv', header=0)"
      ],
      "execution_count": 4,
      "outputs": []
    },
    {
      "cell_type": "code",
      "metadata": {
        "id": "Id6E2EbfIZuh"
      },
      "source": [
        "xml_data = get_xml_data(stops, \"stop\")\r\n",
        "save_xml_file(xml_data, \"stops\")"
      ],
      "execution_count": 5,
      "outputs": []
    },
    {
      "cell_type": "markdown",
      "metadata": {
        "id": "2q840YcIjz5Q"
      },
      "source": [
        "# Lines"
      ]
    },
    {
      "cell_type": "code",
      "metadata": {
        "id": "3lMrJTRVj6SM"
      },
      "source": [
        "routes = pd.read_csv(source_directory + 'routes.csv', header=0)"
      ],
      "execution_count": 8,
      "outputs": []
    },
    {
      "cell_type": "code",
      "metadata": {
        "colab": {
          "base_uri": "https://localhost:8080/",
          "height": 514
        },
        "id": "uvGmJWn3kLea",
        "outputId": "1bb06bcd-cc4e-4e4a-d447-431e02be371f"
      },
      "source": [
        "routes.head(15)"
      ],
      "execution_count": 9,
      "outputs": [
        {
          "output_type": "execute_result",
          "data": {
            "text/html": [
              "<div>\n",
              "<style scoped>\n",
              "    .dataframe tbody tr th:only-of-type {\n",
              "        vertical-align: middle;\n",
              "    }\n",
              "\n",
              "    .dataframe tbody tr th {\n",
              "        vertical-align: top;\n",
              "    }\n",
              "\n",
              "    .dataframe thead th {\n",
              "        text-align: right;\n",
              "    }\n",
              "</style>\n",
              "<table border=\"1\" class=\"dataframe\">\n",
              "  <thead>\n",
              "    <tr style=\"text-align: right;\">\n",
              "      <th></th>\n",
              "      <th>route_id</th>\n",
              "      <th>agency_id</th>\n",
              "      <th>route_short_name</th>\n",
              "      <th>route_long_name</th>\n",
              "      <th>route_desc</th>\n",
              "      <th>route_type</th>\n",
              "      <th>route_color</th>\n",
              "    </tr>\n",
              "  </thead>\n",
              "  <tbody>\n",
              "    <tr>\n",
              "      <th>0</th>\n",
              "      <td>1</td>\n",
              "      <td>25</td>\n",
              "      <td>1</td>\n",
              "      <td>ת. רכבת יבנה מערב-יבנה&lt;-&gt;ת. רכבת יבנה מזרח-יבנ...</td>\n",
              "      <td>67001-1-#</td>\n",
              "      <td>3</td>\n",
              "      <td>NaN</td>\n",
              "    </tr>\n",
              "    <tr>\n",
              "      <th>1</th>\n",
              "      <td>2</td>\n",
              "      <td>25</td>\n",
              "      <td>1</td>\n",
              "      <td>ת. רכבת יבנה מזרח-יבנה&lt;-&gt;ת. רכבת יבנה מערב-יבנ...</td>\n",
              "      <td>67001-2-#</td>\n",
              "      <td>3</td>\n",
              "      <td>NaN</td>\n",
              "    </tr>\n",
              "    <tr>\n",
              "      <th>2</th>\n",
              "      <td>3</td>\n",
              "      <td>25</td>\n",
              "      <td>2</td>\n",
              "      <td>ת. רכבת יבנה מערב-יבנה&lt;-&gt;ת. רכבת יבנה מזרח-יבנ...</td>\n",
              "      <td>56002-1-#</td>\n",
              "      <td>3</td>\n",
              "      <td>NaN</td>\n",
              "    </tr>\n",
              "    <tr>\n",
              "      <th>3</th>\n",
              "      <td>5</td>\n",
              "      <td>25</td>\n",
              "      <td>2</td>\n",
              "      <td>ת. רכבת יבנה מזרח-יבנה&lt;-&gt;ת. רכבת יבנה מערב-יבנ...</td>\n",
              "      <td>56002-2-#</td>\n",
              "      <td>3</td>\n",
              "      <td>NaN</td>\n",
              "    </tr>\n",
              "    <tr>\n",
              "      <th>4</th>\n",
              "      <td>7</td>\n",
              "      <td>25</td>\n",
              "      <td>3</td>\n",
              "      <td>ת. רכבת יבנה מערב-יבנה&lt;-&gt;ת. רכבת יבנה מזרח-יבנ...</td>\n",
              "      <td>49003-1-#</td>\n",
              "      <td>3</td>\n",
              "      <td>NaN</td>\n",
              "    </tr>\n",
              "    <tr>\n",
              "      <th>5</th>\n",
              "      <td>8</td>\n",
              "      <td>25</td>\n",
              "      <td>3</td>\n",
              "      <td>ת. רכבת יבנה מזרח-יבנה&lt;-&gt;ת. רכבת יבנה מערב-יבנ...</td>\n",
              "      <td>49003-2-#</td>\n",
              "      <td>3</td>\n",
              "      <td>NaN</td>\n",
              "    </tr>\n",
              "    <tr>\n",
              "      <th>6</th>\n",
              "      <td>9</td>\n",
              "      <td>25</td>\n",
              "      <td>4</td>\n",
              "      <td>ת. רכבת יבנה מערב-יבנה&lt;-&gt;ת. רכבת יבנה מזרח-יבנ...</td>\n",
              "      <td>47004-1-#</td>\n",
              "      <td>3</td>\n",
              "      <td>NaN</td>\n",
              "    </tr>\n",
              "    <tr>\n",
              "      <th>7</th>\n",
              "      <td>10</td>\n",
              "      <td>25</td>\n",
              "      <td>4</td>\n",
              "      <td>ת. רכבת יבנה מזרח-יבנה&lt;-&gt;ת. רכבת יבנה מערב-יבנ...</td>\n",
              "      <td>47004-2-#</td>\n",
              "      <td>3</td>\n",
              "      <td>NaN</td>\n",
              "    </tr>\n",
              "    <tr>\n",
              "      <th>8</th>\n",
              "      <td>11</td>\n",
              "      <td>25</td>\n",
              "      <td>5</td>\n",
              "      <td>ת. רכבת יבנה מערב-יבנה&lt;-&gt;הרימון/הברוש-בן זכאי-1#</td>\n",
              "      <td>41005-1-#</td>\n",
              "      <td>3</td>\n",
              "      <td>NaN</td>\n",
              "    </tr>\n",
              "    <tr>\n",
              "      <th>9</th>\n",
              "      <td>12</td>\n",
              "      <td>25</td>\n",
              "      <td>5</td>\n",
              "      <td>הרימון/הברוש-בן זכאי&lt;-&gt;ת. רכבת יבנה מערב-יבנה-2#</td>\n",
              "      <td>41005-2-#</td>\n",
              "      <td>3</td>\n",
              "      <td>NaN</td>\n",
              "    </tr>\n",
              "    <tr>\n",
              "      <th>10</th>\n",
              "      <td>21</td>\n",
              "      <td>25</td>\n",
              "      <td>17</td>\n",
              "      <td>ת. מרכזית אשדוד/רציפים-אשדוד&lt;-&gt;דרך מנחם בגין/ה...</td>\n",
              "      <td>27017-1-#</td>\n",
              "      <td>3</td>\n",
              "      <td>NaN</td>\n",
              "    </tr>\n",
              "    <tr>\n",
              "      <th>11</th>\n",
              "      <td>22</td>\n",
              "      <td>25</td>\n",
              "      <td>17א</td>\n",
              "      <td>ת. מרכזית אשדוד/רציפים-אשדוד&lt;-&gt;דרך מנחם בגין/ה...</td>\n",
              "      <td>27017-1-1</td>\n",
              "      <td>3</td>\n",
              "      <td>NaN</td>\n",
              "    </tr>\n",
              "    <tr>\n",
              "      <th>12</th>\n",
              "      <td>23</td>\n",
              "      <td>25</td>\n",
              "      <td>17</td>\n",
              "      <td>דרך מנחם בגין/החציר-גן יבנה&lt;-&gt;ת. מרכזית אשדוד-...</td>\n",
              "      <td>27017-2-#</td>\n",
              "      <td>3</td>\n",
              "      <td>NaN</td>\n",
              "    </tr>\n",
              "    <tr>\n",
              "      <th>13</th>\n",
              "      <td>24</td>\n",
              "      <td>25</td>\n",
              "      <td>17א</td>\n",
              "      <td>דרך מנחם בגין/החציר-גן יבנה&lt;-&gt;ת. מרכזית אשדוד-...</td>\n",
              "      <td>27017-2-1</td>\n",
              "      <td>3</td>\n",
              "      <td>NaN</td>\n",
              "    </tr>\n",
              "    <tr>\n",
              "      <th>14</th>\n",
              "      <td>25</td>\n",
              "      <td>25</td>\n",
              "      <td>35</td>\n",
              "      <td>ת. מרכזית יבנה/רציפים-יבנה&lt;-&gt;הדר/התפוח-קדרון-1#</td>\n",
              "      <td>23035-1-#</td>\n",
              "      <td>3</td>\n",
              "      <td>NaN</td>\n",
              "    </tr>\n",
              "  </tbody>\n",
              "</table>\n",
              "</div>"
            ],
            "text/plain": [
              "    route_id  agency_id route_short_name  ... route_desc route_type  route_color\n",
              "0          1         25                1  ...  67001-1-#          3          NaN\n",
              "1          2         25                1  ...  67001-2-#          3          NaN\n",
              "2          3         25                2  ...  56002-1-#          3          NaN\n",
              "3          5         25                2  ...  56002-2-#          3          NaN\n",
              "4          7         25                3  ...  49003-1-#          3          NaN\n",
              "5          8         25                3  ...  49003-2-#          3          NaN\n",
              "6          9         25                4  ...  47004-1-#          3          NaN\n",
              "7         10         25                4  ...  47004-2-#          3          NaN\n",
              "8         11         25                5  ...  41005-1-#          3          NaN\n",
              "9         12         25                5  ...  41005-2-#          3          NaN\n",
              "10        21         25               17  ...  27017-1-#          3          NaN\n",
              "11        22         25              17א  ...  27017-1-1          3          NaN\n",
              "12        23         25               17  ...  27017-2-#          3          NaN\n",
              "13        24         25              17א  ...  27017-2-1          3          NaN\n",
              "14        25         25               35  ...  23035-1-#          3          NaN\n",
              "\n",
              "[15 rows x 7 columns]"
            ]
          },
          "metadata": {
            "tags": []
          },
          "execution_count": 9
        }
      ]
    },
    {
      "cell_type": "code",
      "metadata": {
        "id": "0Wo1m8Y2kQwb"
      },
      "source": [
        "lines = pd.read_csv(source_directory + 'trips.csv', header=0)"
      ],
      "execution_count": 6,
      "outputs": []
    },
    {
      "cell_type": "code",
      "metadata": {
        "colab": {
          "base_uri": "https://localhost:8080/",
          "height": 297
        },
        "id": "g2T8_FWhkjDJ",
        "outputId": "f3e33cb4-e5a7-4778-cb6b-55b1c5bd6420"
      },
      "source": [
        "lines.des()"
      ],
      "execution_count": 14,
      "outputs": [
        {
          "output_type": "execute_result",
          "data": {
            "text/html": [
              "<div>\n",
              "<style scoped>\n",
              "    .dataframe tbody tr th:only-of-type {\n",
              "        vertical-align: middle;\n",
              "    }\n",
              "\n",
              "    .dataframe tbody tr th {\n",
              "        vertical-align: top;\n",
              "    }\n",
              "\n",
              "    .dataframe thead th {\n",
              "        text-align: right;\n",
              "    }\n",
              "</style>\n",
              "<table border=\"1\" class=\"dataframe\">\n",
              "  <thead>\n",
              "    <tr style=\"text-align: right;\">\n",
              "      <th></th>\n",
              "      <th>route_id</th>\n",
              "      <th>service_id</th>\n",
              "      <th>direction_id</th>\n",
              "      <th>shape_id</th>\n",
              "    </tr>\n",
              "  </thead>\n",
              "  <tbody>\n",
              "    <tr>\n",
              "      <th>count</th>\n",
              "      <td>205637.000000</td>\n",
              "      <td>205637.000000</td>\n",
              "      <td>205637.000000</td>\n",
              "      <td>205637.000000</td>\n",
              "    </tr>\n",
              "    <tr>\n",
              "      <th>mean</th>\n",
              "      <td>12452.463501</td>\n",
              "      <td>6975.660937</td>\n",
              "      <td>0.455983</td>\n",
              "      <td>111107.454636</td>\n",
              "    </tr>\n",
              "    <tr>\n",
              "      <th>std</th>\n",
              "      <td>7871.797839</td>\n",
              "      <td>4400.811028</td>\n",
              "      <td>0.498060</td>\n",
              "      <td>10080.308770</td>\n",
              "    </tr>\n",
              "    <tr>\n",
              "      <th>min</th>\n",
              "      <td>1.000000</td>\n",
              "      <td>1.000000</td>\n",
              "      <td>0.000000</td>\n",
              "      <td>51356.000000</td>\n",
              "    </tr>\n",
              "    <tr>\n",
              "      <th>25%</th>\n",
              "      <td>6535.000000</td>\n",
              "      <td>2732.000000</td>\n",
              "      <td>0.000000</td>\n",
              "      <td>108597.000000</td>\n",
              "    </tr>\n",
              "    <tr>\n",
              "      <th>50%</th>\n",
              "      <td>11514.000000</td>\n",
              "      <td>7355.000000</td>\n",
              "      <td>0.000000</td>\n",
              "      <td>114876.000000</td>\n",
              "    </tr>\n",
              "    <tr>\n",
              "      <th>75%</th>\n",
              "      <td>17558.000000</td>\n",
              "      <td>10516.000000</td>\n",
              "      <td>1.000000</td>\n",
              "      <td>117747.000000</td>\n",
              "    </tr>\n",
              "    <tr>\n",
              "      <th>max</th>\n",
              "      <td>28418.000000</td>\n",
              "      <td>15131.000000</td>\n",
              "      <td>1.000000</td>\n",
              "      <td>119528.000000</td>\n",
              "    </tr>\n",
              "  </tbody>\n",
              "</table>\n",
              "</div>"
            ],
            "text/plain": [
              "            route_id     service_id   direction_id       shape_id\n",
              "count  205637.000000  205637.000000  205637.000000  205637.000000\n",
              "mean    12452.463501    6975.660937       0.455983  111107.454636\n",
              "std      7871.797839    4400.811028       0.498060   10080.308770\n",
              "min         1.000000       1.000000       0.000000   51356.000000\n",
              "25%      6535.000000    2732.000000       0.000000  108597.000000\n",
              "50%     11514.000000    7355.000000       0.000000  114876.000000\n",
              "75%     17558.000000   10516.000000       1.000000  117747.000000\n",
              "max     28418.000000   15131.000000       1.000000  119528.000000"
            ]
          },
          "metadata": {
            "tags": []
          },
          "execution_count": 14
        }
      ]
    },
    {
      "cell_type": "code",
      "metadata": {
        "id": "AvkKjZnBknPB"
      },
      "source": [
        "\r\n"
      ],
      "execution_count": null,
      "outputs": []
    }
  ]
}